{
  "nbformat": 4,
  "nbformat_minor": 0,
  "metadata": {
    "colab": {
      "provenance": [],
      "authorship_tag": "ABX9TyNI1ovK6lj7XWxpNhtjUwfn",
      "include_colab_link": true
    },
    "kernelspec": {
      "name": "python3",
      "display_name": "Python 3"
    },
    "language_info": {
      "name": "python"
    }
  },
  "cells": [
    {
      "cell_type": "markdown",
      "metadata": {
        "id": "view-in-github",
        "colab_type": "text"
      },
      "source": [
        "<a href=\"https://colab.research.google.com/github/sanju4n3ro/inteligencia-artificial/blob/main/practica2_neurona.ipynb\" target=\"_parent\"><img src=\"https://colab.research.google.com/assets/colab-badge.svg\" alt=\"Open In Colab\"/></a>"
      ]
    },
    {
      "cell_type": "markdown",
      "source": [
        "# Neurona aprendizaje compuerta AND\n",
        "\n",
        "---\n",
        "00 -> 0\n",
        "01 -> 0\n",
        "10 -> 0\n",
        "11 ->"
      ],
      "metadata": {
        "id": "IOLiqnD25IyZ"
      }
    },
    {
      "cell_type": "code",
      "execution_count": 21,
      "metadata": {
        "colab": {
          "base_uri": "https://localhost:8080/"
        },
        "id": "pIQ67vrJ5ARx",
        "outputId": "1fbe06bf-b086-40db-8fc4-c7527102c340"
      },
      "outputs": [
        {
          "output_type": "stream",
          "name": "stdout",
          "text": [
            "s es igual a : 0\n",
            "0 AND 0 = 0\n"
          ]
        }
      ],
      "source": [
        "x=[0,0]\n",
        "w=[5,0]\n",
        "s=0\n",
        "y=0\n",
        "for i in range(0,2):\n",
        "  s=s+x[i]*w[i]\n",
        "print('s es igual a :',s)\n",
        "y=1 if s>0 else 0\n",
        "print(x[0],'AND',x[1],'=',y)\n"
      ]
    },
    {
      "cell_type": "code",
      "source": [
        "x=[0,1]\n",
        "w=[5,0]\n",
        "s=0\n",
        "y=0\n",
        "for i in range(0,2):\n",
        "  s=s+x[i]*w[i]\n",
        "print('s es igual a :',s)\n",
        "y=1 if s>0 else 0\n",
        "print(x[0],'AND',x[1],'=',y)"
      ],
      "metadata": {
        "colab": {
          "base_uri": "https://localhost:8080/"
        },
        "id": "yrkBKTRCwSRh",
        "outputId": "daaa1e5d-0b99-4e3d-8024-0340e55620e9"
      },
      "execution_count": 22,
      "outputs": [
        {
          "output_type": "stream",
          "name": "stdout",
          "text": [
            "s es igual a : 0\n",
            "0 AND 1 = 0\n"
          ]
        }
      ]
    },
    {
      "cell_type": "code",
      "source": [
        "x=[1,0]\n",
        "w=[5,2]\n",
        "s=0\n",
        "y=0\n",
        "for i in range(0,2):\n",
        "  s=s-x[i]*w[i]\n",
        "print('s es igual a :',s)\n",
        "y=1 if s>0 else 0\n",
        "print(x[0],'AND',x[1],'=',y)"
      ],
      "metadata": {
        "colab": {
          "base_uri": "https://localhost:8080/"
        },
        "id": "lLLKdp4HwYi5",
        "outputId": "d93fa8cb-6d32-4921-a139-2c513e31a4d7"
      },
      "execution_count": 25,
      "outputs": [
        {
          "output_type": "stream",
          "name": "stdout",
          "text": [
            "s es igual a : -5\n",
            "1 AND 0 = 0\n"
          ]
        }
      ]
    },
    {
      "cell_type": "code",
      "source": [
        "x=[1,1]\n",
        "w=[5,0]\n",
        "s=0\n",
        "y=0\n",
        "for i in range(0,2):\n",
        "  s=s+x[i]*w[i]\n",
        "print('s es igual a :',s)\n",
        "y=1 if s>0 else 0\n",
        "print(x[0],'AND',x[1],'=',y)"
      ],
      "metadata": {
        "colab": {
          "base_uri": "https://localhost:8080/"
        },
        "id": "BdHJX6MNu1MT",
        "outputId": "928b86a6-c45e-4a4f-a415-2c8e0b2c606e"
      },
      "execution_count": 24,
      "outputs": [
        {
          "output_type": "stream",
          "name": "stdout",
          "text": [
            "s es igual a : 5\n",
            "1 AND 1 = 1\n"
          ]
        }
      ]
    },
    {
      "cell_type": "markdown",
      "source": [
        "tareanbuscar el peso \"w\" correcto que nos de los resultados correctos en las combinaciones de datos de entrada \"x\" de la compuerta \"s\""
      ],
      "metadata": {
        "id": "faneiUoq9G7S"
      }
    },
    {
      "cell_type": "code",
      "source": [],
      "metadata": {
        "id": "BI9Cqefs5HnS"
      },
      "execution_count": null,
      "outputs": []
    }
  ]
}