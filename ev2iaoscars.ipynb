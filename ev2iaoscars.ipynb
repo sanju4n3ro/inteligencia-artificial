{
  "nbformat": 4,
  "nbformat_minor": 0,
  "metadata": {
    "colab": {
      "provenance": [],
      "authorship_tag": "ABX9TyOvDufbgl+XdNART1J4H/RC",
      "include_colab_link": true
    },
    "kernelspec": {
      "name": "python3",
      "display_name": "Python 3"
    },
    "language_info": {
      "name": "python"
    }
  },
  "cells": [
    {
      "cell_type": "markdown",
      "metadata": {
        "id": "view-in-github",
        "colab_type": "text"
      },
      "source": [
        "<a href=\"https://colab.research.google.com/github/sanju4n3ro/inteligencia-artificial/blob/main/ev2iaoscars.ipynb\" target=\"_parent\"><img src=\"https://colab.research.google.com/assets/colab-badge.svg\" alt=\"Open In Colab\"/></a>"
      ]
    },
    {
      "cell_type": "code",
      "execution_count": null,
      "metadata": {
        "colab": {
          "base_uri": "https://localhost:8080/",
          "height": 599
        },
        "id": "FeWps_3CJt_z",
        "outputId": "f2444c46-69e5-40b4-a9de-ad2f5b48d474"
      },
      "outputs": [
        {
          "output_type": "stream",
          "name": "stdout",
          "text": [
            "Ingresa dos números separados por espacio (o presiona Enter para salir): 1 0\n",
            "1.0 AND 0.0 = 0 (suma = 1.0)\n",
            "1.0 OR 0.0 = 1 (suma = 1.0)\n",
            "Ingresa dos números separados por espacio (o presiona Enter para salir): 0 0\n",
            "0.0 AND 0.0 = 0 (suma = 0.0)\n",
            "0.0 OR 0.0 = 0 (suma = 0.0)\n",
            "Ingresa dos números separados por espacio (o presiona Enter para salir): 0 1\n",
            "0.0 AND 1.0 = 0 (suma = 1.0)\n",
            "0.0 OR 1.0 = 1 (suma = 1.0)\n",
            "Ingresa dos números separados por espacio (o presiona Enter para salir): 1\n",
            "Por favor ingresa exactamente dos números.\n",
            "Ingresa dos números separados por espacio (o presiona Enter para salir): 1 1\n",
            "1.0 AND 1.0 = 1 (suma = 2.0)\n",
            "1.0 OR 1.0 = 1 (suma = 2.0)\n"
          ]
        },
        {
          "output_type": "error",
          "ename": "KeyboardInterrupt",
          "evalue": "Interrupted by user",
          "traceback": [
            "\u001b[0;31m---------------------------------------------------------------------------\u001b[0m",
            "\u001b[0;31mKeyboardInterrupt\u001b[0m                         Traceback (most recent call last)",
            "\u001b[0;32m<ipython-input-2-f2abc612d16d>\u001b[0m in \u001b[0;36m<cell line: 3>\u001b[0;34m()\u001b[0m\n\u001b[1;32m      2\u001b[0m \u001b[0;34m\u001b[0m\u001b[0m\n\u001b[1;32m      3\u001b[0m \u001b[0;32mwhile\u001b[0m \u001b[0;32mTrue\u001b[0m\u001b[0;34m:\u001b[0m\u001b[0;34m\u001b[0m\u001b[0;34m\u001b[0m\u001b[0m\n\u001b[0;32m----> 4\u001b[0;31m     \u001b[0mentrada_usuario\u001b[0m \u001b[0;34m=\u001b[0m \u001b[0minput\u001b[0m\u001b[0;34m(\u001b[0m\u001b[0;34m\"Ingresa dos números separados por espacio (o presiona Enter para salir): \"\u001b[0m\u001b[0;34m)\u001b[0m\u001b[0;34m\u001b[0m\u001b[0;34m\u001b[0m\u001b[0m\n\u001b[0m\u001b[1;32m      5\u001b[0m \u001b[0;34m\u001b[0m\u001b[0m\n\u001b[1;32m      6\u001b[0m     \u001b[0;31m# Si la entrada es vacía, se sale del bucle\u001b[0m\u001b[0;34m\u001b[0m\u001b[0;34m\u001b[0m\u001b[0m\n",
            "\u001b[0;32m/usr/local/lib/python3.10/dist-packages/ipykernel/kernelbase.py\u001b[0m in \u001b[0;36mraw_input\u001b[0;34m(self, prompt)\u001b[0m\n\u001b[1;32m    849\u001b[0m                 \u001b[0;34m\"raw_input was called, but this frontend does not support input requests.\"\u001b[0m\u001b[0;34m\u001b[0m\u001b[0;34m\u001b[0m\u001b[0m\n\u001b[1;32m    850\u001b[0m             )\n\u001b[0;32m--> 851\u001b[0;31m         return self._input_request(str(prompt),\n\u001b[0m\u001b[1;32m    852\u001b[0m             \u001b[0mself\u001b[0m\u001b[0;34m.\u001b[0m\u001b[0m_parent_ident\u001b[0m\u001b[0;34m,\u001b[0m\u001b[0;34m\u001b[0m\u001b[0;34m\u001b[0m\u001b[0m\n\u001b[1;32m    853\u001b[0m             \u001b[0mself\u001b[0m\u001b[0;34m.\u001b[0m\u001b[0m_parent_header\u001b[0m\u001b[0;34m,\u001b[0m\u001b[0;34m\u001b[0m\u001b[0;34m\u001b[0m\u001b[0m\n",
            "\u001b[0;32m/usr/local/lib/python3.10/dist-packages/ipykernel/kernelbase.py\u001b[0m in \u001b[0;36m_input_request\u001b[0;34m(self, prompt, ident, parent, password)\u001b[0m\n\u001b[1;32m    893\u001b[0m             \u001b[0;32mexcept\u001b[0m \u001b[0mKeyboardInterrupt\u001b[0m\u001b[0;34m:\u001b[0m\u001b[0;34m\u001b[0m\u001b[0;34m\u001b[0m\u001b[0m\n\u001b[1;32m    894\u001b[0m                 \u001b[0;31m# re-raise KeyboardInterrupt, to truncate traceback\u001b[0m\u001b[0;34m\u001b[0m\u001b[0;34m\u001b[0m\u001b[0m\n\u001b[0;32m--> 895\u001b[0;31m                 \u001b[0;32mraise\u001b[0m \u001b[0mKeyboardInterrupt\u001b[0m\u001b[0;34m(\u001b[0m\u001b[0;34m\"Interrupted by user\"\u001b[0m\u001b[0;34m)\u001b[0m \u001b[0;32mfrom\u001b[0m \u001b[0;32mNone\u001b[0m\u001b[0;34m\u001b[0m\u001b[0;34m\u001b[0m\u001b[0m\n\u001b[0m\u001b[1;32m    896\u001b[0m             \u001b[0;32mexcept\u001b[0m \u001b[0mException\u001b[0m \u001b[0;32mas\u001b[0m \u001b[0me\u001b[0m\u001b[0;34m:\u001b[0m\u001b[0;34m\u001b[0m\u001b[0;34m\u001b[0m\u001b[0m\n\u001b[1;32m    897\u001b[0m                 \u001b[0mself\u001b[0m\u001b[0;34m.\u001b[0m\u001b[0mlog\u001b[0m\u001b[0;34m.\u001b[0m\u001b[0mwarning\u001b[0m\u001b[0;34m(\u001b[0m\u001b[0;34m\"Invalid Message:\"\u001b[0m\u001b[0;34m,\u001b[0m \u001b[0mexc_info\u001b[0m\u001b[0;34m=\u001b[0m\u001b[0;32mTrue\u001b[0m\u001b[0;34m)\u001b[0m\u001b[0;34m\u001b[0m\u001b[0;34m\u001b[0m\u001b[0m\n",
            "\u001b[0;31mKeyboardInterrupt\u001b[0m: Interrupted by user"
          ]
        }
      ],
      "source": [
        "pesos = [1, 1]  # Pesos iguales, ya que cada entrada debe tener la misma importancia\n",
        "\n",
        "while True:\n",
        "    entrada_usuario = input(\"Ingresa dos números separados por espacio (o presiona Enter para salir): \")\n",
        "\n",
        "\n",
        "    if entrada_usuario.strip() == \"\":\n",
        "        print(\"Saliendo del programa.\")\n",
        "        break\n",
        "\n",
        "    try:\n",
        "        # Convierte la entrada en una lista\n",
        "        valores = list(map(float, entrada_usuario.split()))\n",
        "\n",
        "\n",
        "        if len(valores) != 2:\n",
        "            print(\"Por favor ingresa exactamente dos números.\")\n",
        "            continue\n",
        "\n",
        "        # AND\n",
        "        umbral_and = 1.5  # Ambas entradas deben ser 1 para que el valor supere 1.5\n",
        "        suma_and = sum(valores[i] * pesos[i] for i in range(2))\n",
        "\n",
        "        resultado_and = 1 if suma_and >= umbral_and else 0\n",
        "        print(f\"{valores[0]} AND {valores[1]} = {resultado_and} (suma = {suma_and})\")\n",
        "\n",
        "        # OR\n",
        "        umbral_or = 0.5  # Solo se necesita que una entrada sea 1 para superar 0.5\n",
        "        suma_or = sum(valores[i] * pesos[i] for i in range(2))\n",
        "\n",
        "        resultado_or = 1 if suma_or >= umbral_or else 0\n",
        "        print(f\"{valores[0]} OR {valores[1]} = {resultado_or} (suma = {suma_or})\")\n",
        "\n",
        "    except ValueError:\n",
        "        print(\"Error: Asegúrate de ingresar números válidos.\")"
      ]
    }
  ]
}