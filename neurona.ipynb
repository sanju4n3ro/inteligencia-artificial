{
  "nbformat": 4,
  "nbformat_minor": 0,
  "metadata": {
    "colab": {
      "provenance": [],
      "authorship_tag": "ABX9TyMNOM9zxm2OF3BenP4FMC9H",
      "include_colab_link": true
    },
    "kernelspec": {
      "name": "python3",
      "display_name": "Python 3"
    },
    "language_info": {
      "name": "python"
    }
  },
  "cells": [
    {
      "cell_type": "markdown",
      "metadata": {
        "id": "view-in-github",
        "colab_type": "text"
      },
      "source": [
        "<a href=\"https://colab.research.google.com/github/sanju4n3ro/inteligencia-artificial/blob/main/neurona.ipynb\" target=\"_parent\"><img src=\"https://colab.research.google.com/assets/colab-badge.svg\" alt=\"Open In Colab\"/></a>"
      ]
    },
    {
      "cell_type": "markdown",
      "source": [
        "# Neurona aprendizaje compuerta AND\n",
        "\n",
        "---\n",
        "00 -> 0\n",
        "01 -> 0\n",
        "10 -> 0\n",
        "11 ->1"
      ],
      "metadata": {
        "id": "IOLiqnD25IyZ"
      }
    },
    {
      "cell_type": "code",
      "source": [
        "x=[1,1]\n",
        "w=[1,2]\n",
        "s=-2.5\n",
        "y=0\n",
        "for i in range(0,2):\n",
        "  s=s+x[i]*w[i]\n",
        "print('s es igual a :',s)\n",
        "y=1 if s>0 else 0\n",
        "print(x[0],'AND',x[1],'=',y)"
      ],
      "metadata": {
        "colab": {
          "base_uri": "https://localhost:8080/"
        },
        "id": "lLLKdp4HwYi5",
        "outputId": "d3d26f45-be47-4396-eecf-42666fe8fe21"
      },
      "execution_count": 76,
      "outputs": [
        {
          "output_type": "stream",
          "name": "stdout",
          "text": [
            "s es igual a : 0.5\n",
            "1 AND 1 = 1\n"
          ]
        }
      ]
    },
    {
      "cell_type": "markdown",
      "source": [
        "tareanbuscar el peso \"w\" correcto que nos de los resultados correctos en las combinaciones de datos de entrada \"x\" de la compuerta \"s\""
      ],
      "metadata": {
        "id": "faneiUoq9G7S"
      }
    },
    {
      "cell_type": "code",
      "source": [],
      "metadata": {
        "id": "BI9Cqefs5HnS"
      },
      "execution_count": null,
      "outputs": []
    }
  ]
}