{
  "nbformat": 4,
  "nbformat_minor": 0,
  "metadata": {
    "colab": {
      "provenance": [],
      "toc_visible": true,
      "authorship_tag": "ABX9TyPu4GPHROYNb8slYkzXM/3n",
      "include_colab_link": true
    },
    "kernelspec": {
      "name": "python3",
      "display_name": "Python 3"
    },
    "language_info": {
      "name": "python"
    }
  },
  "cells": [
    {
      "cell_type": "markdown",
      "metadata": {
        "id": "view-in-github",
        "colab_type": "text"
      },
      "source": [
        "<a href=\"https://colab.research.google.com/github/sanju4n3ro/inteligencia-artificial/blob/main/EvaluacionDiagnostica.ipynb\" target=\"_parent\"><img src=\"https://colab.research.google.com/assets/colab-badge.svg\" alt=\"Open In Colab\"/></a>"
      ]
    },
    {
      "cell_type": "markdown",
      "source": [
        "# Evaluacion Diagnostica\n"
      ],
      "metadata": {
        "id": "g_2kPYJt0kVD"
      }
    },
    {
      "cell_type": "markdown",
      "source": [
        "como se declara una lista en Python"
      ],
      "metadata": {
        "id": "z2-egF_DqhQo"
      }
    },
    {
      "cell_type": "code",
      "execution_count": null,
      "metadata": {
        "colab": {
          "base_uri": "https://localhost:8080/"
        },
        "id": "PcM8N4BZpDas",
        "outputId": "0cad76e9-1835-40a4-9d74-334f5ee37285"
      },
      "outputs": [
        {
          "output_type": "stream",
          "name": "stdout",
          "text": [
            "[1, 2, 3]\n"
          ]
        }
      ],
      "source": [
        "my_list = [1,2,3]\n",
        "print (my_list)"
      ]
    },
    {
      "cell_type": "markdown",
      "source": [
        "¿wue funcion se usa para conocer el numero de elementos en una lista?"
      ],
      "metadata": {
        "id": "U7cL6BRdpHlY"
      }
    },
    {
      "cell_type": "code",
      "source": [
        "len(my_list)\n"
      ],
      "metadata": {
        "colab": {
          "base_uri": "https://localhost:8080/"
        },
        "id": "MSe7zX-QpH-v",
        "outputId": "d3ddfdf5-6e97-41cd-e85b-b7d54174aef4"
      },
      "execution_count": null,
      "outputs": [
        {
          "output_type": "execute_result",
          "data": {
            "text/plain": [
              "3"
            ]
          },
          "metadata": {},
          "execution_count": 5
        }
      ]
    },
    {
      "cell_type": "markdown",
      "source": [
        "¿que resultado obtendremos al ejecutar el siguiente codigo?"
      ],
      "metadata": {
        "id": "1eM3VWMmrMoR"
      }
    },
    {
      "cell_type": "code",
      "source": [
        "a=[1,2,3,4,5]\n",
        "print(a[::-1])"
      ],
      "metadata": {
        "colab": {
          "base_uri": "https://localhost:8080/"
        },
        "id": "UJPC05LfrcHL",
        "outputId": "2cf7eb9e-ebd4-42a3-c398-ccc5c01a9e70"
      },
      "execution_count": null,
      "outputs": [
        {
          "output_type": "stream",
          "name": "stdout",
          "text": [
            "[5, 4, 3, 2, 1]\n"
          ]
        }
      ]
    },
    {
      "cell_type": "markdown",
      "source": [
        "¿cual es el resultado de la siguiente expresion?\n"
      ],
      "metadata": {
        "id": "wjpQaGsDrzwL"
      }
    },
    {
      "cell_type": "code",
      "source": [
        "print(3*\"5\"+2)"
      ],
      "metadata": {
        "colab": {
          "base_uri": "https://localhost:8080/",
          "height": 141
        },
        "id": "oDR4536_r62-",
        "outputId": "62198c11-f631-40d0-e114-eb32c192b7ce"
      },
      "execution_count": null,
      "outputs": [
        {
          "output_type": "error",
          "ename": "TypeError",
          "evalue": "can only concatenate str (not \"int\") to str",
          "traceback": [
            "\u001b[0;31m---------------------------------------------------------------------------\u001b[0m",
            "\u001b[0;31mTypeError\u001b[0m                                 Traceback (most recent call last)",
            "\u001b[0;32m<ipython-input-7-ecf93d8422a1>\u001b[0m in \u001b[0;36m<cell line: 1>\u001b[0;34m()\u001b[0m\n\u001b[0;32m----> 1\u001b[0;31m \u001b[0mprint\u001b[0m\u001b[0;34m(\u001b[0m\u001b[0;36m3\u001b[0m\u001b[0;34m*\u001b[0m\u001b[0;34m\"5\"\u001b[0m\u001b[0;34m+\u001b[0m\u001b[0;36m2\u001b[0m\u001b[0;34m)\u001b[0m\u001b[0;34m\u001b[0m\u001b[0;34m\u001b[0m\u001b[0m\n\u001b[0m",
            "\u001b[0;31mTypeError\u001b[0m: can only concatenate str (not \"int\") to str"
          ]
        }
      ]
    },
    {
      "cell_type": "markdown",
      "source": [
        "¿qué salida generara el siguiente código?"
      ],
      "metadata": {
        "id": "iReQ5XTysDBn"
      }
    },
    {
      "cell_type": "code",
      "source": [
        "def foo(x, y=[]):\n",
        "  y.append(x)\n",
        "  return y\n",
        "\n",
        "print(foo(1))\n",
        "print(foo(2, []))\n",
        "print(foo(3))"
      ],
      "metadata": {
        "colab": {
          "base_uri": "https://localhost:8080/"
        },
        "id": "nWgO5-lltmH6",
        "outputId": "7b0eca6b-eb73-4a6e-ad4a-b679dec44d25"
      },
      "execution_count": null,
      "outputs": [
        {
          "output_type": "stream",
          "name": "stdout",
          "text": [
            "[1]\n",
            "[2]\n",
            "[1, 3]\n"
          ]
        }
      ]
    },
    {
      "cell_type": "code",
      "source": [],
      "metadata": {
        "id": "6a7yXQw8typL"
      },
      "execution_count": null,
      "outputs": []
    },
    {
      "cell_type": "markdown",
      "source": [
        "que resultado obtendremos al ejecutar el siguiente codigo?"
      ],
      "metadata": {
        "id": "Ngqyalw-t2_T"
      }
    },
    {
      "cell_type": "code",
      "source": [],
      "metadata": {
        "id": "DigRl08AvTC7"
      },
      "execution_count": null,
      "outputs": []
    },
    {
      "cell_type": "code",
      "source": [
        "def multiply_list(numbers,factor):\n",
        "  result =[]\n",
        "  for number in numbers:\n",
        "    result.append(number*factor)\n",
        "  return result\n",
        "my_list =[1,2,3]\n",
        "output=multiply_list(my_list,2)\n",
        "print(output)"
      ],
      "metadata": {
        "colab": {
          "base_uri": "https://localhost:8080/"
        },
        "id": "vVR1HIIlt9LL",
        "outputId": "19c8e01a-3de0-44a0-b9ae-513d2bacdd58"
      },
      "execution_count": null,
      "outputs": [
        {
          "output_type": "stream",
          "name": "stdout",
          "text": [
            "[2, 4, 6]\n"
          ]
        }
      ]
    },
    {
      "cell_type": "markdown",
      "source": [
        "# Práctica de Python"
      ],
      "metadata": {
        "id": "00I1fnhB09J_"
      }
    },
    {
      "cell_type": "markdown",
      "source": [
        "# Sección nueva"
      ],
      "metadata": {
        "id": "_DRua4d-sPUf"
      }
    },
    {
      "cell_type": "markdown",
      "source": [
        "Clasificacion de una lista con numeros pares e impares."
      ],
      "metadata": {
        "id": "WsQjj5R71T8o"
      }
    },
    {
      "cell_type": "code",
      "source": [
        "#Declaracion de variables\n",
        "numeros = [10,25,36,98,77,34,89,58]\n",
        "d = 4.5\n",
        "\n",
        "\n",
        "print(type(d))"
      ],
      "metadata": {
        "colab": {
          "base_uri": "https://localhost:8080/"
        },
        "id": "Ic_0WSTu1eSf",
        "outputId": "b0764f49-862a-4bf0-fadf-1bda6d30d60a"
      },
      "execution_count": null,
      "outputs": [
        {
          "output_type": "stream",
          "name": "stdout",
          "text": [
            "<class 'float'>\n"
          ]
        }
      ]
    },
    {
      "cell_type": "code",
      "source": [
        "#Declaracion de variables\n",
        "numeros = [10,25,36,98,77,34,89,58]\n",
        "pares = []\n",
        "impares = []\n"
      ],
      "metadata": {
        "id": "6H_0nQ4E2pvy"
      },
      "execution_count": null,
      "outputs": []
    },
    {
      "cell_type": "code",
      "source": [
        "#ciclo for para recorrer la lista\n",
        "for numero in numeros:\n",
        "  if numero % 2 == 0:\n",
        "    #pares[1] =numeros[0]; java, c, c# \"0 es el valor de i\"\n",
        "    pares.append(numero)\n",
        "  else:\n",
        "    impares.append(numero)"
      ],
      "metadata": {
        "id": "Eb9X8Q2G262x"
      },
      "execution_count": null,
      "outputs": []
    },
    {
      "cell_type": "code",
      "source": [
        "#impresion de resultados\n",
        "print(\"pares:\", pares, \"total:\",  len(pares))\n",
        "print(\"impares:\", impares, \"total:\", len(impares))\n"
      ],
      "metadata": {
        "colab": {
          "base_uri": "https://localhost:8080/"
        },
        "id": "-RkT1aBr4HcS",
        "outputId": "8b61a45a-5914-4ad4-f95b-ef647971de99"
      },
      "execution_count": null,
      "outputs": [
        {
          "output_type": "stream",
          "name": "stdout",
          "text": [
            "pares: [10, 36, 98, 34, 58, 10, 36, 98, 34, 58] total: 10\n",
            "impares: [25, 77, 89, 25, 77, 89] total: 6\n"
          ]
        }
      ]
    },
    {
      "cell_type": "code",
      "source": [
        "#funcion suma de los numeros pares\n",
        "def sumaPares(lista):\n",
        "  suma = 0\n",
        "  for numero in lista:\n",
        "    suma += numero\n",
        "  return suma"
      ],
      "metadata": {
        "id": "ajrSlvuw6iZ2"
      },
      "execution_count": null,
      "outputs": []
    },
    {
      "cell_type": "code",
      "source": [
        "#impresion de la suma\n",
        "print(\"la suma de los pares es:\", sumaPares(pares))"
      ],
      "metadata": {
        "colab": {
          "base_uri": "https://localhost:8080/",
          "height": 159
        },
        "id": "hzfRgBDP62S4",
        "outputId": "1bd17840-dc22-485f-f640-293bf899cee1"
      },
      "execution_count": null,
      "outputs": [
        {
          "output_type": "error",
          "ename": "NameError",
          "evalue": "name 'sumaPares' is not defined",
          "traceback": [
            "\u001b[0;31m---------------------------------------------------------------------------\u001b[0m",
            "\u001b[0;31mNameError\u001b[0m                                 Traceback (most recent call last)",
            "\u001b[0;32m<ipython-input-1-64ad05f6ae49>\u001b[0m in \u001b[0;36m<cell line: 2>\u001b[0;34m()\u001b[0m\n\u001b[1;32m      1\u001b[0m \u001b[0;31m#impresion de la suma\u001b[0m\u001b[0;34m\u001b[0m\u001b[0;34m\u001b[0m\u001b[0m\n\u001b[0;32m----> 2\u001b[0;31m \u001b[0mprint\u001b[0m\u001b[0;34m(\u001b[0m\u001b[0;34m\"la suma de los pares es:\"\u001b[0m\u001b[0;34m,\u001b[0m \u001b[0msumaPares\u001b[0m\u001b[0;34m(\u001b[0m\u001b[0mpares\u001b[0m\u001b[0;34m)\u001b[0m\u001b[0;34m)\u001b[0m\u001b[0;34m\u001b[0m\u001b[0;34m\u001b[0m\u001b[0m\n\u001b[0m",
            "\u001b[0;31mNameError\u001b[0m: name 'sumaPares' is not defined"
          ]
        }
      ]
    },
    {
      "cell_type": "markdown",
      "source": [
        "# ejercicios de python\n",
        "#ejercicio1 Taller automotriz\n"
      ],
      "metadata": {
        "id": "q4sTjiuSsTzM"
      }
    },
    {
      "cell_type": "markdown",
      "source": [
        "# Definimos la clase para el inventario\n",
        "# Para almacenar los repuestos y su cantidad\n"
      ],
      "metadata": {
        "id": "1WsUlh0vLear"
      }
    },
    {
      "cell_type": "code",
      "source": [
        "class InventarioTaller:\n",
        "    def __init__(self):\n",
        "       self.inventario = {}\n"
      ],
      "metadata": {
        "id": "jWBIZzqIUkLl"
      },
      "execution_count": null,
      "outputs": []
    },
    {
      "cell_type": "markdown",
      "source": [
        "\n",
        "\n",
        "# Ahora las fuciones de Agregar o actualizar la cantidad de un repuesto\n",
        "# Eliminar un articulo del inventario\n",
        "# Consultar las cantidades\n",
        "\n"
      ],
      "metadata": {
        "id": "bjeNvkS7MFat"
      }
    },
    {
      "cell_type": "code",
      "source": [
        " def agregar_repuesto(self, nombre, cantidad):\n",
        "        # Agregar o actualizar la cantidad de un repuesto\n",
        "     if nombre in self.inventario:\n",
        "         self.inventario[nombre] += cantidad\n",
        "     else:\n",
        "        self.inventario[nombre] = cantidad\n",
        "        print(f\"{cantidad} unidades de {nombre} agregadas al inventario.\")\n",
        "\n",
        " def eliminar_repuesto(self, nombre):\n",
        "        # Eliminar un repuesto del inventario\n",
        "        if nombre in self.inventario:\n",
        "            del self.inventario[nombre]\n",
        "            print(f\"{nombre} fue eliminado del inventario.\")\n",
        "        else:\n",
        "            print(f\"{nombre} no se encuentra en el inventario.\")\n",
        "\n",
        " def consultar_repuesto(self, nombre):\n",
        "        # Consultar la cantidad disponible de un repuesto\n",
        "        if nombre in self.inventario:\n",
        "            print(f\"El repuesto {nombre} tiene {self.inventario[nombre]} unidades disponibles.\")\n",
        "        else:\n",
        "            print(f\"{nombre} no se encuentra en el inventario.\")\n",
        "\n"
      ],
      "metadata": {
        "id": "LZEFABZ4UzC_"
      },
      "execution_count": null,
      "outputs": []
    },
    {
      "cell_type": "markdown",
      "source": [
        "# Hacer una compra cuando la cantidad de un repuesto está por debajo de la cantidad mínima"
      ],
      "metadata": {
        "id": "fyd326CrO7hh"
      }
    },
    {
      "cell_type": "code",
      "source": [
        "   def realizar_compra(self, nombre, cantidad_minima, cantidad_a_comprar):\n",
        "        # Realizar una compra si la cantidad de un repuesto está por debajo de la cantidad mínima\n",
        "        if nombre in self.inventario and self.inventario[nombre] < cantidad_minima:\n",
        "            print(f\"El inventario de {nombre} está bajo ({self.inventario[nombre]} unidades).\")\n",
        "            print(f\"Se comprarán {cantidad_a_comprar} unidades adicionales.\")\n",
        "            self.inventario[nombre] += cantidad_a_comprar\n",
        "        else:\n",
        "            print(f\"El inventario de {nombre} es suficiente o el repuesto no está registrado.\")\n"
      ],
      "metadata": {
        "id": "pGh8NfSNVGo4"
      },
      "execution_count": null,
      "outputs": []
    },
    {
      "cell_type": "markdown",
      "source": [
        "\n",
        "\n",
        "# Ejemplo de uso del programa\n"
      ],
      "metadata": {
        "id": "aaMApJ1wQk5G"
      }
    },
    {
      "cell_type": "code",
      "source": [
        "# Crear un nuevo inventario\n",
        "taller = InventarioTaller()\n",
        "\n"
      ],
      "metadata": {
        "id": "KWu3hAr9VP3d"
      },
      "execution_count": null,
      "outputs": []
    },
    {
      "cell_type": "markdown",
      "source": [
        "#ejercicio 2"
      ],
      "metadata": {
        "id": "liVUcAI2XFZK"
      }
    },
    {
      "cell_type": "markdown",
      "source": [
        "# Definimos la clase\n",
        " # Diccionario para almacenar empleados y sus proyectos"
      ],
      "metadata": {
        "id": "KQe13WWVXKEY"
      }
    },
    {
      "cell_type": "code",
      "source": [
        "class EmpresaConsultoria:\n",
        "    def _init_(self):\n",
        "\n",
        "        self.empleados = {}"
      ],
      "metadata": {
        "id": "FGp1DoYhXRwk"
      },
      "execution_count": null,
      "outputs": []
    },
    {
      "cell_type": "markdown",
      "source": [
        "   # Agrega un empleado con su tarifa por hora"
      ],
      "metadata": {
        "id": "w_uBAlqfXYl0"
      }
    },
    {
      "cell_type": "code",
      "source": [
        " def agregar_empleado(self, nombre, tarifa_hora):\n",
        "\n",
        "        self.empleados[nombre] = {\n",
        "            \"tarifa_hora\": tarifa_hora,\n",
        "            \"proyectos\": {}\n",
        "        }\n",
        "        print(f\"Empleado {nombre} agregado con tarifa de {tarifa_hora} por hora.\")\n"
      ],
      "metadata": {
        "id": "mRjRZ6QMXk5N"
      },
      "execution_count": null,
      "outputs": []
    },
    {
      "cell_type": "markdown",
      "source": [
        "\n",
        "\n",
        "# Meter horas trabajadas en un proyecto para un empleado"
      ],
      "metadata": {
        "id": "iNaOOtzUX3MH"
      }
    },
    {
      "cell_type": "code",
      "source": [
        "def registrar_horas(self, nombre, proyecto, horas):\n",
        "\n",
        "        if nombre in self.empleados:\n",
        "            if proyecto in self.empleados[nombre][\"proyectos\"]:\n",
        "                self.empleados[nombre][\"proyectos\"][proyecto] += horas\n",
        "            else:\n",
        "                self.empleados[nombre][\"proyectos\"][proyecto] = horas\n",
        "            print(f\"Registradas {horas} horas para {nombre} en el proyecto {proyecto}.\")\n",
        "        else:\n",
        "            print(f\"Empleado {nombre} no encontrado.\")\n"
      ],
      "metadata": {
        "id": "0rOiRXCyXzmP"
      },
      "execution_count": null,
      "outputs": []
    },
    {
      "cell_type": "markdown",
      "source": [
        "# Calcula el total de horas trabajadas por un empleado"
      ],
      "metadata": {
        "id": "KA4a4hDUYIeb"
      }
    },
    {
      "cell_type": "code",
      "source": [
        "def calcular_horas_totales(self, nombre):\n",
        "\n",
        "        if nombre in self.empleados:\n",
        "            horas_totales = sum(self.empleados[nombre][\"proyectos\"].values())\n",
        "            return horas_totales\n",
        "        else:\n",
        "            print(f\"Empleado {nombre} no encontrado.\")\n",
        "            return 0\n"
      ],
      "metadata": {
        "id": "c-SAKhB6YGP0"
      },
      "execution_count": null,
      "outputs": []
    },
    {
      "cell_type": "markdown",
      "source": [
        "# Calcula el costo total de las horas trabajadas por un empleado"
      ],
      "metadata": {
        "id": "RKjdxmJNYScJ"
      }
    },
    {
      "cell_type": "code",
      "source": [
        "def calcular_costo_total(self, nombre):\n",
        "\n",
        "        if nombre in self.empleados:\n",
        "            horas_totales = self.calcular_horas_totales(nombre)\n",
        "            tarifa_hora = self.empleados[nombre][\"tarifa_hora\"]\n",
        "            costo_total = horas_totales * tarifa_hora\n",
        "            return costo_total\n",
        "        else:\n",
        "            print(f\"Empleado {nombre} no encontrado.\")\n",
        "            return 0\n",
        "\n"
      ],
      "metadata": {
        "id": "PPwq5B6KYM9j"
      },
      "execution_count": null,
      "outputs": []
    }
  ]
}